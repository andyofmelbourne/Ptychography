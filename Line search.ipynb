{
 "metadata": {
  "name": ""
 },
 "nbformat": 3,
 "nbformat_minor": 0,
 "worksheets": [
  {
   "cells": [
    {
     "cell_type": "code",
     "collapsed": false,
     "input": [
      "import numpy as np\n",
      "from andrew import bagOfns as bg\n",
      "%pylab inline"
     ],
     "language": "python",
     "metadata": {},
     "outputs": [
      {
       "output_type": "stream",
       "stream": "stdout",
       "text": [
        "Populating the interactive namespace from numpy and matplotlib\n"
       ]
      }
     ],
     "prompt_number": 1
    },
    {
     "cell_type": "heading",
     "level": 1,
     "metadata": {},
     "source": [
      "The variables"
     ]
    },
    {
     "cell_type": "code",
     "collapsed": false,
     "input": [
      "shape = (4, 4)\n",
      "sample = np.random.random(shape) + 1J * np.random.random(shape) \n",
      "probe  = np.random.random(shape) + 1J * np.random.random(shape) \n",
      "\n",
      "grid_coords = (2, 2)\n",
      "coords = np.random.random((grid_coords[0] * grid_coords[1], 2))\n",
      "coords[:, 0] *= shape[0]\n",
      "coords[:, 1] *= shape[1]"
     ],
     "language": "python",
     "metadata": {},
     "outputs": [],
     "prompt_number": 7
    },
    {
     "cell_type": "heading",
     "level": 1,
     "metadata": {},
     "source": [
      "The diffraction data"
     ]
    },
    {
     "cell_type": "markdown",
     "metadata": {},
     "source": [
      "<math>\n",
      "\\begin{align}\n",
      "   I^i_n &= \\bigg|\\sum_m e^{-2\\pi i \\frac{nm}{N}} T_m  \\psi^\\text{ill}_{m-R_i}\\bigg|^2\n",
      "\\end{align}\n",
      "</math>\n",
      "\n",
      "where \n",
      "\n",
      "<math>\n",
      "\\begin{align}\n",
      "   \\psi^\\text{ill}_{m-R_i} \\equiv \\sum_l \\hat{\\psi}^\\text{ill}_l e^{-2\\pi i \\frac{l R_i}{N}} e^{2\\pi i \\frac{l m}{N}}\n",
      "\\end{align}\n",
      "</math>\n"
     ]
    },
    {
     "cell_type": "code",
     "collapsed": false,
     "input": [
      "def translate(array, coord):\n",
      "    x, y     = bg.make_xy(array.shape)\n",
      "    exp      = np.exp(-2.0J * np.pi * (coord[1] * x + coord[0] * y) / float(array.size))\n",
      "    return bg.ifft2(bg.fft2(array) * exp)\n",
      "\n",
      "def makeExits(sample, probe, coords):\n",
      "    exits = []\n",
      "    for coord in coords:\n",
      "        exits.append(sample * translate(probe, coord))\n",
      "    return np.array(exits)\n",
      "\n",
      "def makeDiffs(sample, probe, coords):\n",
      "    diffs = np.abs(bg.fft2(makeExits(sample, probe, coords)))**2\n",
      "    return diffs\n",
      "\n",
      "diffs = makeDiffs(sample, probe, coords)"
     ],
     "language": "python",
     "metadata": {},
     "outputs": [],
     "prompt_number": 14
    },
    {
     "cell_type": "code",
     "collapsed": false,
     "input": [
      "gs = GridSpec(grid_coords[0], grid_coords[1])\n",
      "for i in range(grid_coords[0]):\n",
      "    for j in range(grid_coords[1]):\n",
      "        gs.update(top = 0.95, bottom = 0.02,left=0.02, right=0.98, hspace=0.2,wspace=0.05)\n",
      "        ax = plt.subplot(gs[i, j])\n",
      "        ax.imshow(diffs[i*grid_coords[0] + j], interpolation = \"none\")\n",
      "        ax.set_xticks([])\n",
      "        ax.set_yticks([])\n",
      "\n",
      "fig = plt.gcf()\n",
      "fig.set_size_inches(2 * grid_coords[0], 2 * grid_coords[1])\n",
      "plt.show()    "
     ],
     "language": "python",
     "metadata": {},
     "outputs": [
      {
       "metadata": {},
       "output_type": "display_data",
       "png": "[encoded data removed]",
       "text": [
        "<matplotlib.figure.Figure at 0x4635110>"
       ]
      }
     ],
     "prompt_number": 15
    },
    {
     "cell_type": "heading",
     "level": 1,
     "metadata": {},
     "source": [
      "The metric"
     ]
    },
    {
     "cell_type": "markdown",
     "metadata": {},
     "source": [
      "Modulus error:\n",
      "<math>\n",
      "\\begin{align}\n",
      "   \\varepsilon_\\text{mod} = \\sum_i \\sum_n [\\sqrt{I^i_n} - |\\hat{\\psi}^i_n|]^2\n",
      "\\end{align}\n",
      "</math>"
     ]
    },
    {
     "cell_type": "code",
     "collapsed": false,
     "input": [
      "def emod(diffs, psis):\n",
      "    psis = bg.fft2(psis)\n",
      "    error = np.sum( np.sqrt(diffs) - np.abs(psis) )**2\n",
      "    return error"
     ],
     "language": "python",
     "metadata": {},
     "outputs": [],
     "prompt_number": 13
    },
    {
     "cell_type": "heading",
     "level": 2,
     "metadata": {},
     "source": [
      "Sample "
     ]
    },
    {
     "cell_type": "code",
     "collapsed": false,
     "input": [
      "def emod_Txy(x, y):\n",
      "    T      = sample.copy()\n",
      "    T[0,0] = x + 1J * y\n",
      "    psis = makeExits(T, probe, coords)\n",
      "    return emod(diffs, psis)\n",
      "\n",
      "X, Y = np.meshgrid(np.linspace(-1.0, 1.0, 100), np.linspace(-1.0, 1.0, 100))\n",
      "emod_graph = np.zeros_like(X)\n",
      "\n",
      "for i in range(X.shape[0]):\n",
      "    for j in range(X.shape[1]):\n",
      "        emod_graph[i, j] = emod_Txy(X[i, j], Y[i, j])"
     ],
     "language": "python",
     "metadata": {},
     "outputs": [],
     "prompt_number": 27
    },
    {
     "cell_type": "code",
     "collapsed": false,
     "input": [
      "gs = GridSpec(1,1)\n",
      "gs.update(top = 0.95, bottom = 0.02,left=0.02, right=0.98, hspace=0.2,wspace=0.05)\n",
      "ax = plt.subplot(gs[0, 0])\n",
      "ax.imshow(emod_graph, interpolation = \"none\")\n",
      "ax.scatter(sample[0,0].imag*50 + 50, sample[0,0].real*50 + 50, 40)\n",
      "#ax.set_xticks([])\n",
      "#ax.set_yticks([])\n",
      "fig = plt.gcf()\n",
      "fig.set_size_inches(5,5)\n",
      "plt.show()\n",
      "print sample[0, 0]"
     ],
     "language": "python",
     "metadata": {},
     "outputs": [
      {
       "metadata": {},
       "output_type": "display_data",
       "png": "[encoded data removed]",
       "text": [
        "<matplotlib.figure.Figure at 0x413dad0>"
       ]
      },
      {
       "output_type": "stream",
       "stream": "stdout",
       "text": [
        "(0.235761146549+0.046986417802j)\n"
       ]
      }
     ],
     "prompt_number": 38
    },
    {
     "cell_type": "code",
     "collapsed": false,
     "input": [
      "def Pmod(diffs, psis):\n",
      "    psis = bg.fft2(psis)\n",
      "    psis = np.sqrt(diffs) * psis / np.abs(psis)\n",
      "    return bg.ifft2(psis)\n",
      "\n",
      "def emod_grad_T(sample_d, sample, probe, coords):\n",
      "    exits_d = makeExits(sample_d, probe, coords)\n",
      "    exits   = makeExits(sample  , probe, coords)\n",
      "    exits   = np.conj(exits_d) * (exits - Pmod(diffs, exits))\n",
      "    return 2 * np.sum( np.real(exits) )\n",
      "\n",
      "d0 = np.array([1,1])\n",
      "\n",
      "x0 = np.array([0, 0])\n",
      "T  = sample.copy()\n",
      "T[0, 0] = x0[0] + 1J * x0[1]\n",
      "TT = T.copy()\n",
      "emod_grad_T_line = []\n",
      "emod_T_line = []\n",
      "\n",
      "\n",
      "for alpha in np.linspace(-0.2, 1.0, 20):\n",
      "    d = alpha * d0\n",
      "    TT[0, 0] = T[0,0] + d[0] + 1.0J * d[1]  \n",
      "    emod_grad_T_line.append(emod_grad_T(TT, T, probe, coords))\n",
      "    emod_T_line.append( emod(diffs, makeExits(TT, probe, coords)))\n",
      "\n",
      "plot(np.array(emod_grad_T_line))\n",
      "#plot(np.array(emod_T_line))"
     ],
     "language": "python",
     "metadata": {},
     "outputs": [
      {
       "metadata": {},
       "output_type": "pyout",
       "prompt_number": 72,
       "text": [
        "[<matplotlib.lines.Line2D at 0x79ab290>]"
       ]
      },
      {
       "metadata": {},
       "output_type": "display_data",
       "png": "[encoded data removed]",
       "text": [
        "<matplotlib.figure.Figure at 0x7761e50>"
       ]
      }
     ],
     "prompt_number": 72
    },
    {
     "cell_type": "code",
     "collapsed": false,
     "input": [
      "plot(np.array(emod_T_line))"
     ],
     "language": "python",
     "metadata": {},
     "outputs": [
      {
       "metadata": {},
       "output_type": "pyout",
       "prompt_number": 73,
       "text": [
        "[<matplotlib.lines.Line2D at 0x79cc550>]"
       ]
      },
      {
       "metadata": {},
       "output_type": "display_data",
       "png": "[encoded data removed]",
       "text": [
        "<matplotlib.figure.Figure at 0x729b2d0>"
       ]
      }
     ],
     "prompt_number": 73
    },
    {
     "cell_type": "code",
     "collapsed": false,
     "input": [
      "for i in range(len(emod_T_line)):\n",
      "    print emod_T_line[i], emod_grad_T_line[i]\n",
      "    "
     ],
     "language": "python",
     "metadata": {},
     "outputs": [
      {
       "output_type": "stream",
       "stream": "stdout",
       "text": [
        "0.160862848593 0.0438084379309\n",
        "0.0610042769152 0.0154636922655\n",
        "0.0149372308035 -0.0128810533999\n",
        "0.000733582956723 -0.0412257990653\n",
        "0.00181785440747 -0.0695705447306\n",
        "0.00594494866144 -0.097915290396\n",
        "0.00788333218463 -0.126260036061\n",
        "0.00660672406294 -0.154604781727\n",
        "0.00297373786782 -0.182949527392\n",
        "6.57660530438e-05 -0.211294273058\n",
        "0.00340210757325 -0.239639018723\n",
        "0.0209829146537 -0.267983764388\n",
        "0.0631498497905 -0.296328510054\n",
        "0.142413871423 -0.324673255719\n",
        "0.273351444964 -0.353018001384\n",
        "0.472452958471 -0.38136274705\n",
        "0.757763477112 -0.409707492715\n",
        "1.1483860642 -0.438052238381\n",
        "1.66411524545 -0.466396984046\n",
        "2.3253538209 -0.494741729711\n"
       ]
      }
     ],
     "prompt_number": 74
    },
    {
     "cell_type": "code",
     "collapsed": false,
     "input": [
      "\n",
      "\n",
      "emod_grad_T(sample, sample, probe, coords)\n"
     ],
     "language": "python",
     "metadata": {},
     "outputs": [
      {
       "metadata": {},
       "output_type": "pyout",
       "prompt_number": 75,
       "text": [
        "-1.2682376737224939e-15"
       ]
      }
     ],
     "prompt_number": 75
    },
    {
     "cell_type": "code",
     "collapsed": false,
     "input": [],
     "language": "python",
     "metadata": {},
     "outputs": []
    }
   ],
   "metadata": {}
  }
 ]
}