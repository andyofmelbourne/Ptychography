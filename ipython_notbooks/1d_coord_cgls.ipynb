{
 "metadata": {
  "name": "1d_coord_cgls"
 },
 "nbformat": 3,
 "nbformat_minor": 0,
 "worksheets": [
  {
   "cells": [
    {
     "cell_type": "code",
     "collapsed": false,
     "input": [
      "import numpy as np\n",
      "import os,sys,inspect\n",
      "currentdir = os.path.dirname(os.path.abspath(inspect.getfile(inspect.currentframe())))\n",
      "parentdir = os.path.dirname(currentdir)\n",
      "sys.path.insert(0, parentdir) \n",
      "\n",
      "from python_scripts import bagOfns as bg\n",
      "\n",
      "import cgls\n",
      "\n",
      "%pylab inline"
     ],
     "language": "python",
     "metadata": {},
     "outputs": [
      {
       "output_type": "stream",
       "stream": "stdout",
       "text": [
        "\n",
        "Welcome to pylab, a matplotlib-based Python environment [backend: module://IPython.zmq.pylab.backend_inline].\n",
        "For more information, type 'help(pylab)'.\n"
       ]
      }
     ],
     "prompt_number": 1
    },
    {
     "cell_type": "code",
     "collapsed": false,
     "input": [
      "def myShow(X, Y, Z, xs = None, xs2 = None, xlabel = None, xlabel2=None, xdot=None, ydot=None, title = None):\n",
      "    gs = GridSpec(1, 1)\n",
      "    gs.update(top = 0.95, bottom = 0.02,left=0.02, right=0.98, hspace=0.2,wspace=0.05)\n",
      "    ax = plt.subplot(gs[0, 0])\n",
      "    m = 30\n",
      "    V = np.array(range(10))**2 * np.sqrt(Z.max() - Z.min()) / np.float(m - 1) + Z.min()\n",
      "    \n",
      "    ax.contourf(X, Y, Z, V, alpha=.75, cmap=cm.RdBu)\n",
      "    C = ax.contour(X, Y, Z, V, colors='black', linewidth=.3, alpha=0.5)\n",
      "    # put the axes in the centre\n",
      "    ax.spines['right'].set_color('none')\n",
      "    ax.spines['top'].set_color('none')\n",
      "    ax.xaxis.set_ticks_position('bottom')\n",
      "    ax.spines['bottom'].set_position(('data',0))\n",
      "    ax.yaxis.set_ticks_position('left')\n",
      "    ax.spines['left'].set_position(('data',0))\n",
      "    # put white boxes around the labels\n",
      "    for label in ax.get_xticklabels() + ax.get_yticklabels():\n",
      "        label.set_fontsize(10)\n",
      "        label.set_bbox(dict(facecolor='white', edgecolor='None', alpha=0.35 ))\n",
      "    if xdot != None and ydot != None :\n",
      "        ax.plot([xdot,xdot],[ydot,ydot], marker='o', color='black')\n",
      "    if xs != None:\n",
      "        x = []\n",
      "        y = []\n",
      "        for xx,yy in xs:\n",
      "            x.append(xx)\n",
      "            y.append(yy)    \n",
      "        ax.plot(x, y, label=xlabel)\n",
      "    if xs2 != None:\n",
      "        x = []\n",
      "        y = []\n",
      "        for xx,yy in xs2:\n",
      "            x.append(xx)\n",
      "            y.append(yy)    \n",
      "        ax.plot(x, y, label=xlabel2)\n",
      "    if xlabel != None:\n",
      "        ax.legend(loc='upper left')\n",
      "    if title !=None:\n",
      "        ax.set_title(title, fontsize=18, position=(0.5, 1.01))\n",
      "    fig = plt.gcf()\n",
      "    fig.set_size_inches(10, 5)\n",
      "    plt.show() "
     ],
     "language": "python",
     "metadata": {},
     "outputs": [],
     "prompt_number": 2
    },
    {
     "cell_type": "heading",
     "level": 1,
     "metadata": {},
     "source": [
      "The variables"
     ]
    },
    {
     "cell_type": "code",
     "collapsed": false,
     "input": [
      "shape = (1024,)\n",
      "\n",
      "T_0      = np.random.random(shape) + 1J*np.random.random(shape) \n",
      "probe_0  = np.zeros_like(T_0)\n",
      "probe_0[shape[0]/4 : shape[0] * 3/4] = 1.0\n",
      "coords_0 = [0, 10]"
     ],
     "language": "python",
     "metadata": {},
     "outputs": [],
     "prompt_number": 3
    },
    {
     "cell_type": "heading",
     "level": 1,
     "metadata": {},
     "source": [
      "The diffraction data"
     ]
    },
    {
     "cell_type": "code",
     "collapsed": false,
     "input": [
      "def translate(array, coord):\n",
      "    x        = np.arange(array.shape[0])\n",
      "    x       -= array.shape[0] // 2 - 1\n",
      "    exp      = np.exp(-2.0J * np.pi * (coord * x / float(array.shape[0])) )\n",
      "    return bg.ifft2(bg.fft2(array) * exp)\n",
      "\n",
      "def makeProbes(probe, coords):\n",
      "    exits = []\n",
      "    for coord in coords:\n",
      "        exits.append(translate(probe, coord))\n",
      "    return np.array(exits)\n",
      "\n",
      "def makeProbes_z(probe, coords):\n",
      "    exits = []\n",
      "    for coord in coords:\n",
      "        exits.append(probe_grad_z(probe, coord))\n",
      "    return np.array(exits)\n",
      "\n",
      "def makeProbes_zbar(probe, coords):\n",
      "    exits = []\n",
      "    for coord in coords:\n",
      "        exits.append(probe_grad_zbar(probe, coord))\n",
      "    return np.array(exits)\n",
      "\n",
      "def probe_grad_z(probe, coord):\n",
      "    x        = np.arange(array.shape[0])\n",
      "    x       -= array.shape[0] // 2 - 1\n",
      "    exp      = np.exp(-2.0J * np.pi * (coord * x / float(array.shape[0])) )\n",
      "    array    = -1.0J * np.pi * (x / float(probe.shape[0]))\n",
      "    return bg.ifft2(bg.fft2(probe) * exp * array)\n",
      "\n",
      "def probe_grad_zbar(probe, coord):\n",
      "    x, y     = bg.make_xy(probe.shape)\n",
      "    exp      = np.exp(-2.0J * np.pi * (coord[1] * x / float(probe.shape[1]) + coord[0] * y / float(probe.shape[0])) )\n",
      "    array    = -1.0J * np.pi * (y / float(probe.shape[0]) + 1J*x / float(probe.shape[1]))\n",
      "    return bg.ifft2(bg.fft2(probe) * exp * array)\n",
      "\n",
      "def probe_trans_grad(probe, coord, coord2):\n",
      "    \"\"\"I will also apply a basic Gaussian filter to this. Not sure what the optimal solution is.\n",
      "    coord is the shift coordinate while coord2 is the multiplicative component.\n",
      "    \"\"\"\n",
      "    std      = [probe.shape[0]/3.0, probe.shape[1]/3.0]\n",
      "    #std      = [1.0, 1.0]\n",
      "    x, y     = bg.make_xy(probe.shape)\n",
      "    exp      = np.exp(-2.0J * np.pi * (coord[1] * x / float(probe.shape[1]) + coord[0] * y / float(probe.shape[0])) )# - 0.5 * ( (x / std[1])**2 + (y / std[0])**2 ) )\n",
      "    array    = -2.0J * np.pi * (coord2[0] * y / float(probe.shape[0]) + coord2[1] * x / float(probe.shape[1]))\n",
      "    return bg.ifft2(bg.fft2(probe) * exp * array)\n",
      "\n",
      "def probe_trans_grad2(probe, coord, coord2):\n",
      "    #std      = [1.0, 1.0]\n",
      "    std      = [probe.shape[0]/3.0, probe.shape[1]/3.0]\n",
      "    x, y     = bg.make_xy(probe.shape)\n",
      "    exp      = np.exp(-2.0J * np.pi * (coord[1] * x / float(probe.shape[1]) + coord[0] * y / float(probe.shape[0])) )#- 0.5 * ( (x / std[1])**2 + (y / std[0])**2 ) )\n",
      "    array    = (-2.0J * np.pi * (coord2[0] * y / float(probe.shape[0]) + coord2[1] * x / float(probe.shape[1])))**2\n",
      "    return bg.ifft2(bg.fft2(probe) * exp * array)\n",
      "\n",
      "def makeExits_grad(sample, probe, coords, coords2):\n",
      "    exits = []\n",
      "    for i in range(len(coords)):\n",
      "        exits.append(sample * probe_trans_grad(probe, coords[i], coords2[i]))\n",
      "    return np.array(exits)\n",
      "\n",
      "def makeExits_grad2(sample, probe, coords, coords2):\n",
      "    exits = []\n",
      "    for i in range(len(coords)):\n",
      "        exits.append(sample * probe_trans_grad2(probe, coords[i], coords2[i]))\n",
      "    return np.array(exits)\n",
      "\n",
      "def makeExits(sample, probe, coords):\n",
      "    exits = []\n",
      "    for coord in coords:\n",
      "        exits.append(sample * translate(probe, coord))\n",
      "    return np.array(exits)\n",
      "\n",
      "def makeDiffs(sample, probe, coords):\n",
      "    diffs = np.abs(bg.fft2(makeExits(sample, probe, coords)))**2\n",
      "    return diffs\n",
      "\n",
      "diffs = makeDiffs(T_0, probe_0, coords_0)"
     ],
     "language": "python",
     "metadata": {},
     "outputs": [],
     "prompt_number": 4
    },
    {
     "cell_type": "heading",
     "level": 1,
     "metadata": {},
     "source": [
      "The metric"
     ]
    },
    {
     "cell_type": "code",
     "collapsed": false,
     "input": [
      "def emod(diffs, psis):\n",
      "    psis = bg.fft2(psis)\n",
      "    error = np.sum( (np.sqrt(diffs) - np.abs(psis))**2 )\n",
      "    return error\n",
      "\n",
      "def fmod(diffs, T, probe, coords):\n",
      "    return np.sum((np.sqrt(makeDiffs(T, probe, coords)) - np.sqrt(diffs))**2) / np.sum(diffs)\n",
      "\n",
      "def fmod_lowres(diffs, T, probe, coords):\n",
      "    x        = np.arange(diffs.shape[-1])\n",
      "    x       -= diffs.shape[-1] // 2 - 1\n",
      "    precon   = np.exp(- 0.01 * np.array(x, dtype=np.float64)**2)\n",
      "    #\n",
      "    diffs2 = makeDiffs(T, probe, coords)\n",
      "    return np.sum((precon * (np.sqrt(diffs2) - np.sqrt(diffs)))**2) / np.sum(precon**2 * diffs)"
     ],
     "language": "python",
     "metadata": {},
     "outputs": [],
     "prompt_number": 40
    },
    {
     "cell_type": "code",
     "collapsed": false,
     "input": [
      "T = T_0\n",
      "probe = probe_0\n",
      "coords = coords_0\n",
      "\n",
      "f = lambda x: fmod_lowres(diffs, T, probe, [coords[0], x])\n",
      "\n",
      "x     = np.linspace(-100, 100, 100)\n",
      "error = []\n",
      "for xx in x:\n",
      "    error.append(f(xx))\n",
      "error = np.array(error)\n",
      "\n",
      "plot(x, error)"
     ],
     "language": "python",
     "metadata": {},
     "outputs": [
      {
       "output_type": "pyout",
       "prompt_number": 42,
       "text": [
        "[<matplotlib.lines.Line2D at 0xc6b552c>]"
       ]
      },
      {
       "output_type": "display_data",
       "png": "[encoded data removed]"
      }
     ],
     "prompt_number": 42
    },
    {
     "cell_type": "code",
     "collapsed": false,
     "input": [
      "print f(10)"
     ],
     "language": "python",
     "metadata": {},
     "outputs": [
      {
       "output_type": "stream",
       "stream": "stdout",
       "text": [
        "0.0\n"
       ]
      }
     ],
     "prompt_number": 7
    },
    {
     "cell_type": "code",
     "collapsed": false,
     "input": [
      "type(f(1))"
     ],
     "language": "python",
     "metadata": {},
     "outputs": [
      {
       "output_type": "pyout",
       "prompt_number": 8,
       "text": [
        "numpy.float64"
       ]
      }
     ],
     "prompt_number": 8
    },
    {
     "cell_type": "code",
     "collapsed": false,
     "input": [],
     "language": "python",
     "metadata": {},
     "outputs": [],
     "prompt_number": 8
    }
   ],
   "metadata": {}
  }
 ]
}