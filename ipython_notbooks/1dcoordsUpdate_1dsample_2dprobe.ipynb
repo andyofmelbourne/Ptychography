{
 "metadata": {
  "name": "",
  "signature": "sha256:dcdb0dfae6ebe25b17aa0f17538a021a0680d4e38dace952ff61c17f66021959"
 },
 "nbformat": 3,
 "nbformat_minor": 0,
 "worksheets": [
  {
   "cells": [
    {
     "cell_type": "code",
     "collapsed": false,
     "input": [
      "import numpy as np\n",
      "import os,sys,inspect\n",
      "\n",
      "currentdir = os.path.dirname(os.path.abspath(inspect.getfile(inspect.currentframe())))\n",
      "parentdir = os.path.dirname(currentdir)\n",
      "sys.path.insert(0, parentdir) \n",
      "\n",
      "from python_scripts import bagOfns as bg\n",
      "from python_scripts import Ptychography as pt\n",
      "\n",
      "import cgls\n",
      "\n",
      "%pylab inline\n",
      "\n",
      "def myShow(X, Y, Z, xs = None, xs2 = None, xlabel = None, xlabel2=None, xdot=None, ydot=None, title = None):\n",
      "    gs = GridSpec(1, 1)\n",
      "    gs.update(top = 0.95, bottom = 0.02,left=0.02, right=0.98, hspace=0.2,wspace=0.05)\n",
      "    ax = plt.subplot(gs[0, 0])\n",
      "    m = 30\n",
      "    V = np.array(range(10))**2 * np.sqrt(Z.max() - Z.min()) / np.float(m - 1) + Z.min()\n",
      "    \n",
      "    ax.contourf(X, Y, Z, m, alpha=.75, cmap=cm.RdBu)\n",
      "    C = ax.contour(X, Y, Z, m, colors='black', linewidth=.3, alpha=0.5)\n",
      "    # put the axes in the centre\n",
      "    #ax.spines['right'].set_color('none')\n",
      "    #ax.spines['top'].set_color('none')\n",
      "    #ax.xaxis.set_ticks_position('bottom')\n",
      "    #ax.spines['bottom'].set_position(('data',0))\n",
      "    #ax.yaxis.set_ticks_position('left')\n",
      "    #ax.spines['left'].set_position(('data',0))\n",
      "    # put white boxes around the labels\n",
      "    #for label in ax.get_xticklabels() + ax.get_yticklabels():\n",
      "    #    label.set_fontsize(10)\n",
      "    #    label.set_bbox(dict(facecolor='white', edgecolor='None', alpha=0.35 ))\n",
      "    if xdot != None and ydot != None :\n",
      "        ax.plot([xdot,xdot],[ydot,ydot], marker='o', color='black')\n",
      "    if xs != None:\n",
      "        x = []\n",
      "        y = []\n",
      "        for xx,yy in xs:\n",
      "            x.append(xx)\n",
      "            y.append(yy)    \n",
      "        ax.plot(x, y, 'b', label=xlabel)\n",
      "        ax.set_xlim([X.min(), X.max()])\n",
      "        ax.set_ylim([Y.min(), Y.max()])\n",
      "    if xs2 != None:\n",
      "        x = []\n",
      "        y = []\n",
      "        for xx,yy in xs2:\n",
      "            x.append(xx)\n",
      "            y.append(yy)    \n",
      "        ax.plot(x, y, 'k', label=xlabel2)\n",
      "        ax.set_xlim([X.min(), X.max()])\n",
      "        ax.set_ylim([Y.min(), Y.max()])\n",
      "    if xlabel != None:\n",
      "        ax.legend(loc='upper left')\n",
      "    if title !=None:\n",
      "        ax.set_title(title, fontsize=18, position=(0.5, 1.01))\n",
      "    fig = plt.gcf()\n",
      "    fig.set_size_inches(10, 5)\n",
      "    plt.show() \n"
     ],
     "language": "python",
     "metadata": {},
     "outputs": [
      {
       "output_type": "stream",
       "stream": "stdout",
       "text": [
        "GPU_calc False\n",
        "Populating the interactive namespace from numpy and matplotlib"
       ]
      },
      {
       "output_type": "stream",
       "stream": "stdout",
       "text": [
        "\n"
       ]
      }
     ],
     "prompt_number": 1
    },
    {
     "cell_type": "heading",
     "level": 1,
     "metadata": {},
     "source": [
      "The variables"
     ]
    },
    {
     "cell_type": "code",
     "collapsed": false,
     "input": [
      "sample_shape = (256,)\n",
      "probe_shape = (128, 128)\n",
      "\n",
      "T_0      = np.random.random(sample_shape) + 1J*np.random.random(sample_shape) \n",
      "T2d_0    = np.zeros((probe_shape[0], sample_shape[0]), dtype=np.complex128)\n",
      "T2d_0[:] = T_0\n",
      "probe_0  = np.zeros(probe_shape, dtype=np.complex128)\n",
      "probe_0[probe_shape[0]/4 : probe_shape[0] * 3/4, probe_shape[1]/4 : probe_shape[1] * 3/4] = 1.0\n",
      "\n",
      "coords_0      =  np.zeros((10, 2), dtype=np.float64)\n",
      "coords_0[:,1] = -np.array(sort(np.random.random(coords_0.shape[0])) * 40)\n",
      "\n",
      "exits = pt.makeExits(T2d_0, probe_0, coords_0)\n",
      "diffs = np.abs(bg.fft2(exits))**2"
     ],
     "language": "python",
     "metadata": {},
     "outputs": [],
     "prompt_number": 2
    },
    {
     "cell_type": "heading",
     "level": 1,
     "metadata": {},
     "source": [
      "Set up the Ptychographic object"
     ]
    },
    {
     "cell_type": "code",
     "collapsed": false,
     "input": [
      "mask       = np.ones_like(diffs[0], dtype=np.bool)\n",
      "sample_sup = np.ones_like(T_0, dtype=np.bool)\n",
      "prob       = pt.Ptychography_1dsample(diffs, coords_0, mask, probe_0, T_0, sample_sup)"
     ],
     "language": "python",
     "metadata": {},
     "outputs": [],
     "prompt_number": 3
    },
    {
     "cell_type": "heading",
     "level": 1,
     "metadata": {},
     "source": [
      "The metric and the 1d coord gradients"
     ]
    },
    {
     "cell_type": "raw",
     "metadata": {},
     "source": [
      "So far it has been the probe that is shifted, but now I am going to hope that it all works with T instead"
     ]
    },
    {
     "cell_type": "raw",
     "metadata": {},
     "source": [
      "I need 7 new functions (which I will migrate to Ptychography.py):"
     ]
    },
    {
     "cell_type": "markdown",
     "metadata": {},
     "source": [
      "def fmod \n",
      "\n",
      "$\n",
      "    \\begin{align}\n",
      "    f(R) &= \\sum_i \\sum_n \\left[ \\sqrt{I}^i_n - |\\mathcal{F}[T_{n+R_i} \\times P_n]| \\right]^2 = \\sum_i \\sum_n \\left[ \\sqrt{I}^i_n - |\\mathcal{F}[T_n \\times P_{n-R_i}]| \\right]^2\n",
      "    \\end{align}\n",
      "$\n"
     ]
    },
    {
     "cell_type": "code",
     "collapsed": false,
     "input": [
      "def fmod(prob, coords):\n",
      "    prob.exits = pt.makeExits(prob.sample, prob.probe, coords)\n",
      "    diffAmps   = np.abs(bg.fftn(prob.exits)) * prob.mask\n",
      "    return np.sum((diffAmps - prob.diffAmps)**2) "
     ],
     "language": "python",
     "metadata": {},
     "outputs": [],
     "prompt_number": 4
    },
    {
     "cell_type": "raw",
     "metadata": {},
     "source": [
      "Test fmod by graphing the error as a function of the last two coordinates (tested)"
     ]
    },
    {
     "cell_type": "code",
     "collapsed": false,
     "input": [
      "fmod(prob, prob.coords.astype(np.float64))"
     ],
     "language": "python",
     "metadata": {},
     "outputs": [
      {
       "metadata": {},
       "output_type": "pyout",
       "prompt_number": 5,
       "text": [
        "2.2390660136175202e-26"
       ]
      }
     ],
     "prompt_number": 5
    },
    {
     "cell_type": "code",
     "collapsed": false,
     "input": [
      "shape = (10, 10)\n",
      "X, Y = np.meshgrid(np.linspace(coords_0[-2,1] - 5, coords_0[-2,1] + 5, shape[1]), \\\n",
      "                   np.linspace(coords_0[-1,1] - 5, coords_0[-1,1] + 5, shape[0]))\n",
      "\n",
      "# we are only solving for a subset of the coordinates\n",
      "def coords_expand(coords_sub):\n",
      "    coords_full         = coords_0.copy()\n",
      "    coords_full[-2:, 1] = coords_sub\n",
      "    return coords_full \n",
      "\n",
      "F = []\n",
      "for x, y in zip(X.flatten(), Y.flatten()):\n",
      "    coords_temp = coords_expand(np.array([x,y]))\n",
      "    F.append(fmod(prob, coords_temp))\n",
      "\n",
      "F = np.array(F).reshape(X.shape)"
     ],
     "language": "python",
     "metadata": {},
     "outputs": [],
     "prompt_number": 6
    },
    {
     "cell_type": "code",
     "collapsed": false,
     "input": [
      "imshow(F, interpolation='nearest')"
     ],
     "language": "python",
     "metadata": {},
     "outputs": [
      {
       "metadata": {},
       "output_type": "pyout",
       "prompt_number": 7,
       "text": [
        "<matplotlib.image.AxesImage at 0xa456e8c>"
       ]
      },
      {
       "metadata": {},
       "output_type": "display_data",
       "png": "[encoded data removed]",
       "text": [
        "<matplotlib.figure.Figure at 0x97d05cc>"
       ]
      }
     ],
     "prompt_number": 7
    },
    {
     "cell_type": "markdown",
     "metadata": {},
     "source": [
      "This opperation commutes with translation of the sample\n",
      "\n",
      "def sample_grad_trans_1d\n",
      "\n",
      "$\n",
      "    \\begin{align}\n",
      "    \\dot{T}^i_{\\tilde{R} \\; n} = \\mathcal{F}^{-1}\\left[ \\hat{\\dot{T}}^i_{\\tilde{R} \\; n} \\right] &= \\mathcal{F}^{-1}\\left[ \\hat{T}^i_{n}\\left(\\frac{-2\\pi i}{N^x}\\right) \\tilde{R}^x_i n^x \\right]\n",
      "    \\end{align}\n",
      "$\n"
     ]
    },
    {
     "cell_type": "code",
     "collapsed": false,
     "input": [
      "def __moved__sample_grad_trans_1d(T, coord, coord_d):\n",
      "    \"\"\"Calculate : F-1[ Ti_hat (-2 pi i / Nx) Ri_d n ]\"\"\"\n",
      "    Nx       = T.shape[-1]\n",
      "    x        = bg.make_xy([Nx], origin=(0,0))\n",
      "    #\n",
      "    array    = np.zeros_like(T)\n",
      "    array[:] = -2.0J * np.pi * (coord_d[1] * x / float(Nx)) * np.exp(-2.0J * np.pi * (coord[1] * x / float(Nx)))\n",
      "    return bg.ifftn_1d(bg.fftn_1d(T) * array)\n",
      "\n",
      "def __graveyard__sample_grad2_trans_1d(T, coord, coord_d):\n",
      "    Nx       = T.shape[-1]\n",
      "    x        = bg.make_xy([Nx], origin=(0,0))\n",
      "    #\n",
      "    array    = np.zeros_like(T)\n",
      "    array[:] = (-2.0J * np.pi * (coord_d[1] * x / float(Nx)))**2 * np.exp(-2.0J * np.pi * (coord[1] * x / float(Nx)))\n",
      "    return bg.ifftn_1d(bg.fftn_1d(T) * array)"
     ],
     "language": "python",
     "metadata": {},
     "outputs": [],
     "prompt_number": 8
    },
    {
     "cell_type": "markdown",
     "metadata": {},
     "source": [
      "def exit_grad\n",
      "\n",
      "$\n",
      "    \\begin{align}\n",
      "    \\dot{\\psi}^i_{\\tilde{R} \\; n} &= \\psi^{\\text{ill}}_{n} \\times \\dot{T}^{i}_{\\tilde{R} \\; n} \\\\\n",
      "    \\end{align}\n",
      "$"
     ]
    },
    {
     "cell_type": "code",
     "collapsed": false,
     "input": [
      "def __moved__makeExits_grad_1d(T, probe, coords, coords_d):\n",
      "    exits = np.zeros((len(coords), probe.shape[0], probe.shape[1]), dtype=np.complex128)\n",
      "    #\n",
      "    if np.all(coords_d == None):\n",
      "        I = np.ones_like(coords[0])\n",
      "        s_calc = False\n",
      "    else :\n",
      "        s_calc = True\n",
      "    #\n",
      "    for i in range(len(coords)):\n",
      "        if s_calc :\n",
      "            T_g      = pt.sample_grad_trans_1d(T, coords[i], coords_d[i])\n",
      "        else :\n",
      "            T_g      = pt.sample_grad_trans_1d(T, coords[i], I)\n",
      "        exits[i] = T_g[:probe.shape[0], :probe.shape[1]]\n",
      "    exits *= probe \n",
      "    return exits\n",
      "\n",
      "def __graveyard__makeExits_grad2_1d(T, probe, coords, coords_d):\n",
      "    exits = np.zeros((len(coords), probe.shape[0], probe.shape[1]), dtype=np.complex128)\n",
      "    #\n",
      "    for i in range(len(coords)):\n",
      "        T_g      = sample_grad2_trans_1d(T, coords[i], coords_d[i])\n",
      "        exits[i] = T_g[:probe.shape[0], :probe.shape[1]]\n",
      "    exits *= probe \n",
      "    return exits"
     ],
     "language": "python",
     "metadata": {},
     "outputs": [],
     "prompt_number": 9
    },
    {
     "cell_type": "markdown",
     "metadata": {},
     "source": [
      "def emod_grad_dot_coords\n",
      "$\n",
      "    \\begin{align}\n",
      "    \\tilde{R} \\cdot \\frac{\\partial f(R)}{\\partial R} &= 2 \\sum_i \\sum_n \\Re \\left\\{ \\hat{\\dot{\\psi}}^i_{\\tilde{R} \\; n}[\\hat{\\psi}^i_n - \\hat{P}_m\\hat{\\psi}^i_n]^* \\right\\}  \n",
      "    \\end{align}\n",
      "$"
     ]
    },
    {
     "cell_type": "code",
     "collapsed": false,
     "input": [
      "def __redundant__Pmod_hat(diffs, psis):\n",
      "    a = 1.0 / (np.abs(psis) + 1.0e-10)\n",
      "    if np.any(a == None) or np.any(a == np.inf) :\n",
      "        print 'Pmod_hat: divide by zero error, masking...'\n",
      "    psis2 = np.sqrt(diffs) * psis * a\n",
      "    return psis2\n",
      "\n",
      "def __moved__emod_grad_dot_coords_1d(coords_d, T, probe, coords, diffs):\n",
      "    exits_d = bg.fftn(pt.makeExits_grad_1d(T, probe, coords, coords_d))\n",
      "    exits   = bg.fftn(pt.makeExits(T, probe, coords))\n",
      "    exits   = np.conj(exits_d) * (exits - pt.Pmod_hat_diffs(np.sqrt(diffs), exits))\n",
      "    return 2 * np.sum(np.real(exits) )"
     ],
     "language": "python",
     "metadata": {},
     "outputs": [],
     "prompt_number": 10
    },
    {
     "cell_type": "markdown",
     "metadata": {},
     "source": [
      "def emod_grad_coords_1d\n",
      "$\n",
      "    \\begin{align}\n",
      "    \\frac{\\partial f(R)}{\\partial R} &= 2 \\sum_n \\Re \\left\\{ \\hat{\\dot{\\psi}}^i_{I \\; n}[\\hat{\\psi}^i_n - \\hat{P}_m\\hat{\\psi}^i_n]^* \\right\\}  \n",
      "    \\end{align}\n",
      "$"
     ]
    },
    {
     "cell_type": "code",
     "collapsed": false,
     "input": [
      "def __moved__emod_grad_coords_1d(T, probe, coords, diffs):\n",
      "    exits_d = bg.fftn(pt.makeExits_grad_1d(T, probe, coords, coords_d = None))\n",
      "    exits   = bg.fftn(pt.makeExits(T, probe, coords))\n",
      "    exits   = np.conj(exits_d) * (exits - pt.Pmod_hat_diffs(np.sqrt(diffs), exits))\n",
      "    return 2 * np.sum(np.real(exits), axis=(-2, -1))"
     ],
     "language": "python",
     "metadata": {},
     "outputs": [],
     "prompt_number": 11
    },
    {
     "cell_type": "markdown",
     "metadata": {},
     "source": [
      "def emod_grad2_dot_coords\n",
      "\n",
      "$\n",
      "\\begin{align}\n",
      "   \\tilde{R} \\cdot \\frac{\\partial^2 f(R)}{\\partial R^2} \\cdot \\tilde{R} &= 2 \\sum_i \\sum_n \\Re \\left\\{ \\hat{\\ddot{\\psi}}^i_{\\tilde{R} \\; n}[\\hat{\\psi}^i_n - \\hat{P}_m\\hat{\\psi}^i_n]^* + \\hat{\\dot{\\psi}}^i_{\\tilde{R} \\; n}[\\hat{\\dot{\\psi}}^i_{\\tilde{R} \\; n} - \\hat{P}_m\\hat{\\dot{\\psi}}^i_{\\tilde{R} \\; n}]^* + \\frac{\\sqrt{I}^i_n}{|\\hat{\\psi}^i_n|^3} \\Re\\left\\{\\hat{\\psi}^{i*}_{n}  \\hat{\\dot{\\psi}}^i_{\\tilde{R} \\; n}\\right\\}^2 \\right\\}  \n",
      "\\end{align}\n",
      "$"
     ]
    },
    {
     "cell_type": "code",
     "collapsed": false,
     "input": [
      "def __redundant__emod_grad2_dot_coords_1d(coords_d, T, probe, coords, diffs):\n",
      "    exits    = bg.fftn(pt.makeExits(T, probe, coords))\n",
      "    exits_d  = bg.fftn(pt.makeExits_grad_1d(T, probe, coords, coords_d))\n",
      "    exits_dd = bg.fftn(makeExits_grad2_1d(T, probe, coords, coords_d))\n",
      "    #\n",
      "    exits_dd  = np.conj(exits_dd) * (exits   - pt.Pmod_hat_diffs(np.sqrt(diffs), exits))\n",
      "    #\n",
      "    exits_dd += np.conj(exits_d)  * (exits_d - pt.Pmod_hat_diffs(np.sqrt(diffs), exits_d))\n",
      "    #\n",
      "    exits_dd += np.sqrt(diffs) / (np.abs(exits)**3 + 1.0e-2) * np.real(np.conj(exits) * exits_d)**2\n",
      "    #\n",
      "    return 2 * np.sum(np.real(exits_dd) )"
     ],
     "language": "python",
     "metadata": {},
     "outputs": [],
     "prompt_number": 12
    },
    {
     "cell_type": "heading",
     "level": 3,
     "metadata": {},
     "source": [
      "Let's just look at the last 2 coordinates for now"
     ]
    },
    {
     "cell_type": "code",
     "collapsed": false,
     "input": [
      "prob.coords"
     ],
     "language": "python",
     "metadata": {},
     "outputs": [
      {
       "metadata": {},
       "output_type": "pyout",
       "prompt_number": 13,
       "text": [
        "array([[  0.        ,  -2.54003301],\n",
        "       [  0.        ,  -7.85317268],\n",
        "       [  0.        ,  -9.35436987],\n",
        "       [  0.        , -11.22750475],\n",
        "       [  0.        , -13.22302756],\n",
        "       [  0.        , -14.19426425],\n",
        "       [  0.        , -15.80479081],\n",
        "       [  0.        , -17.22250247],\n",
        "       [  0.        , -32.3164396 ],\n",
        "       [  0.        , -36.58883614]])"
       ]
      }
     ],
     "prompt_number": 13
    },
    {
     "cell_type": "heading",
     "level": 3,
     "metadata": {},
     "source": [
      "Make wrappers for the cgls routine"
     ]
    },
    {
     "cell_type": "code",
     "collapsed": false,
     "input": [
      "#\n",
      "# we are only solving for a subset of the coordinates\n",
      "def __moved__coords_expand(coords_sub, n = 1):\n",
      "    coords_full         = prob.coords.copy().astype(np.float64)\n",
      "    coords_full[-n:, 1] = coords_sub\n",
      "    return coords_full \n",
      "#\n",
      "def __moved__coords_contract(coords_full, n = 1):\n",
      "    coords_sub         = coords_full[-n:, 1].copy()\n",
      "    return coords_sub \n",
      "#\n",
      "def __moved__coords_expand_d(coords_sub, n = 1):\n",
      "    coords_full         = np.zeros_like(prob.coords, dtype = np.float64)\n",
      "    coords_full[-n:, 1] = coords_sub\n",
      "    return coords_full \n",
      "#\n",
      "def __moved__f(x, n = 1):\n",
      "    x_full = coords_expand(x, n = n)\n",
      "    return fmod(prob, x_full)\n",
      "#\n",
      "def __moved__grad_f_dot_d(x, d, n = 1):\n",
      "    #print 'grad_f_dot_d: ', x, d\n",
      "    x_full = coords_expand(x, n = n)\n",
      "    d_full = coords_expand_d(d, n = n)\n",
      "    return pt.emod_grad_dot_coords_1d(d_full, prob.sample, prob.probe, x_full, prob.diffAmps**2)\n",
      "#\n",
      "def __redundant__grad2_f_dot_d(x, d, n = 1):\n",
      "    #print 'grad_f_dot_d: ', x, d\n",
      "    x_full  = coords_expand(x, n = n)\n",
      "    d_full  = coords_expand_d(d, n = n)\n",
      "    return emod_grad2_dot_coords_1d(d_full, prob.sample, prob.probe, x_full, prob.diffAmps**2)\n",
      "# \n",
      "def __moved__grad_f(x, n = 1):\n",
      "    #print 'grad_f: ', x\n",
      "    x_full       = coords_expand(x, n = n)\n",
      "    xx           = pt.emod_grad_coords_1d(prob.sample, prob.probe, x_full, prob.diffAmps**2)\n",
      "    #print x_full.shape, xx.shape\n",
      "    #print x_full[:, 1].shape, xx.shape\n",
      "    #print x_full[:, 1], xx\n",
      "    x_full[:, 1] = xx    \n",
      "    return coords_contract(x_full, n = n)"
     ],
     "language": "python",
     "metadata": {},
     "outputs": [],
     "prompt_number": 14
    },
    {
     "cell_type": "heading",
     "level": 2,
     "metadata": {},
     "source": [
      "1 coordinate:"
     ]
    },
    {
     "cell_type": "code",
     "collapsed": false,
     "input": [
      "xs  = np.linspace(prob.coords[-1,1]-1.0, prob.coords[-1,1]+1.0, 30)\n",
      "d   = np.array([1.])\n",
      "fs  = np.zeros_like(xs)\n",
      "dfs = np.zeros_like(xs)\n",
      "dfds = np.zeros_like(xs)\n",
      "for i in range(xs.shape[0]):\n",
      "    fs[i]  = prob.f(xs[i])\n",
      "    dfs[i] = prob.grad_f_dot_d(xs[i], d)\n",
      "    #dfds[i] = grad2_f_dot_d(xs[i], d)\n",
      "    #print i, xs[i], fs[i], dfs[i], dfds[i]"
     ],
     "language": "python",
     "metadata": {},
     "outputs": [],
     "prompt_number": 15
    },
    {
     "cell_type": "heading",
     "level": 3,
     "metadata": {},
     "source": [
      "Secant Method"
     ]
    },
    {
     "cell_type": "code",
     "collapsed": false,
     "input": [
      "from cgls import line_search as ls\n",
      "\n",
      "d      = np.array([1.])\n",
      "xs_sc  = [np.array([prob.coords[-1,1]-0.75])]\n",
      "fs_sc  = []\n",
      "fs_sc.append( prob.f(xs_sc[-1]))\n",
      "\n",
      "for i in range(10):\n",
      "    x, status = ls.line_search_secant(xs_sc[-1], d, prob.grad_f_dot_d, sigma = 0.01)\n",
      "    print x, status\n",
      "    xs_sc.append(x)\n",
      "    fs_sc.append( prob.f(xs_sc[-1]) )"
     ],
     "language": "python",
     "metadata": {},
     "outputs": [
      {
       "output_type": "stream",
       "stream": "stdout",
       "text": [
        "[-37.33883614] False\n",
        "[-37.33883614]"
       ]
      },
      {
       "output_type": "stream",
       "stream": "stdout",
       "text": [
        " False\n",
        "[-37.33883614]"
       ]
      },
      {
       "output_type": "stream",
       "stream": "stdout",
       "text": [
        " False\n",
        "[-37.33883614]"
       ]
      },
      {
       "output_type": "stream",
       "stream": "stdout",
       "text": [
        " False\n",
        "[-37.33883614]"
       ]
      },
      {
       "output_type": "stream",
       "stream": "stdout",
       "text": [
        " False\n",
        "[-37.33883614]"
       ]
      },
      {
       "output_type": "stream",
       "stream": "stdout",
       "text": [
        " False\n",
        "[-37.33883614]"
       ]
      },
      {
       "output_type": "stream",
       "stream": "stdout",
       "text": [
        " False\n",
        "[-37.33883614]"
       ]
      },
      {
       "output_type": "stream",
       "stream": "stdout",
       "text": [
        " False\n",
        "[-37.33883614]"
       ]
      },
      {
       "output_type": "stream",
       "stream": "stdout",
       "text": [
        " False\n",
        "[-37.33883614]"
       ]
      },
      {
       "output_type": "stream",
       "stream": "stdout",
       "text": [
        " False\n"
       ]
      }
     ],
     "prompt_number": 16
    },
    {
     "cell_type": "code",
     "collapsed": false,
     "input": [
      "d      = np.array([1.])\n",
      "xs_ln  = [np.array([prob.coords[-1,1]-0.75])]\n",
      "fs_ln  = []\n",
      "fs_ln.append( prob.f(xs_ln[-1]))\n",
      "\n",
      "for i in range(10):\n",
      "    x, error, status = ls.line_search_linear(xs_ln[-1], d, prob.grad_f_dot_d, prob.f)\n",
      "    print x, error, status\n",
      "    xs_ln.append(x)\n",
      "    fs_ln.append( error )"
     ],
     "language": "python",
     "metadata": {},
     "outputs": [
      {
       "output_type": "stream",
       "stream": "stdout",
       "text": [
        "[-36.41551579] 7.25914634714 True\n",
        "[-36.52672279]"
       ]
      },
      {
       "output_type": "stream",
       "stream": "stdout",
       "text": [
        " 1.06071087098 True\n",
        "[-36.55804825]"
       ]
      },
      {
       "output_type": "stream",
       "stream": "stdout",
       "text": [
        " 0.261615470771 True\n",
        "[-36.57343724]"
       ]
      },
      {
       "output_type": "stream",
       "stream": "stdout",
       "text": [
        " 0.0653588117181 True\n",
        "[-36.58112776]"
       ]
      },
      {
       "output_type": "stream",
       "stream": "stdout",
       "text": [
        " 0.0163547209544 True\n",
        "[-36.58497878]"
       ]
      },
      {
       "output_type": "stream",
       "stream": "stdout",
       "text": [
        " 0.00409179456362 True\n",
        "[-36.58690655]"
       ]
      },
      {
       "output_type": "stream",
       "stream": "stdout",
       "text": [
        " 0.00102341448706 True\n",
        "[-36.58787111]"
       ]
      },
      {
       "output_type": "stream",
       "stream": "stdout",
       "text": [
        " 0.000255916626251 True\n",
        "[-36.58835356]"
       ]
      },
      {
       "output_type": "stream",
       "stream": "stdout",
       "text": [
        " 6.39873303293e-05 True\n",
        "[-36.58859483]"
       ]
      },
      {
       "output_type": "stream",
       "stream": "stdout",
       "text": [
        " 1.59978729393e-05 True\n"
       ]
      }
     ],
     "prompt_number": 17
    },
    {
     "cell_type": "code",
     "collapsed": false,
     "input": [
      "fig = plt.figure()\n",
      "\n",
      "gs = GridSpec(1,2)\n",
      "\n",
      "ax = subplot(gs[0,0])\n",
      "ax.plot(xs, fs, 'k', linewidth=3, alpha = 0.6, label='f(x)')\n",
      "ax.plot(xs_sc, fs_sc, 'b', linewidth=3, alpha = 0.6, label='secant')\n",
      "ax.plot(xs_ln, fs_ln, 'g', linewidth=3, alpha = 0.6, label='linear')\n",
      "ax.set_xlim([xs.min(), xs.max()])\n",
      "ax.legend()\n",
      "\n",
      "ax = subplot(gs[0,1])\n",
      "ax.plot(xs, dfs, 'k', linewidth=3, alpha = 0.6, label='df(x)')\n",
      "ax.set_xlim([xs.min(), xs.max()])\n",
      "\n",
      "ax.legend()\n",
      "fig.set_size_inches(15,5)\n",
      "plt.show()"
     ],
     "language": "python",
     "metadata": {},
     "outputs": [
      {
       "metadata": {},
       "output_type": "display_data",
       "png": "[encoded data removed]",
       "text": [
        "<matplotlib.figure.Figure at 0xa3af74c>"
       ]
      }
     ],
     "prompt_number": 18
    },
    {
     "cell_type": "heading",
     "level": 2,
     "metadata": {},
     "source": [
      "1 coordinate (cgls)"
     ]
    },
    {
     "cell_type": "code",
     "collapsed": false,
     "input": [
      "from cgls import cgls_nonlinear\n",
      "\n",
      "#xs_cg  = [np.array([prob.coords[-2, 1] + 0.1, probe.coords[-1, 1] + 0.1])]\n",
      "xs_cg  = [np.array([prob.coords[-1, 1] + 0.2])]\n",
      "fs_cg  = []\n",
      "fs_cg.append( prob.f(xs_cg[-1]))\n",
      "\n",
      "f2  = lambda x   : prob.f(x, n=1)\n",
      "fd2 = lambda x, d: prob.grad_f_dot_d(x, d, n = 1)\n",
      "df2 = lambda x   : prob.grad_f(x, n = 1)\n",
      "\n",
      "cg = cgls_nonlinear.Cgls(xs_cg[-1], f2, df2, fd2)\n",
      "    \n",
      "for i in range(10):\n",
      "    x = cg.cgls(iterations = 1)\n",
      "    xs_cg.append(x)\n",
      "    fs_cg.append( prob.f(xs_cg[-1]) )\n",
      "    print i, x, fs_cg[-1]"
     ],
     "language": "python",
     "metadata": {},
     "outputs": [
      {
       "output_type": "stream",
       "stream": "stdout",
       "text": [
        "0 [-36.56724808] 0.128555062626\n",
        "1"
       ]
      },
      {
       "output_type": "stream",
       "stream": "stdout",
       "text": [
        " [-36.58342784] 0.00804666554969\n",
        "2"
       ]
      },
      {
       "output_type": "stream",
       "stream": "stdout",
       "text": [
        " [-36.58748276] 0.000503385229165\n",
        "3"
       ]
      },
      {
       "output_type": "stream",
       "stream": "stdout",
       "text": [
        " [-36.5884977] 3.14699818512e-05\n",
        "4"
       ]
      },
      {
       "output_type": "stream",
       "stream": "stdout",
       "text": [
        " [-36.5884977] 3.14699818512e-05\n",
        "5"
       ]
      },
      {
       "output_type": "stream",
       "stream": "stdout",
       "text": [
        " [-36.5884977] 3.14699818512e-05\n",
        "6"
       ]
      },
      {
       "output_type": "stream",
       "stream": "stdout",
       "text": [
        " [-36.5884977] 3.14699818512e-05\n",
        "7"
       ]
      },
      {
       "output_type": "stream",
       "stream": "stdout",
       "text": [
        " [-36.5884977] 3.14699818512e-05\n",
        "8"
       ]
      },
      {
       "output_type": "stream",
       "stream": "stdout",
       "text": [
        " [-36.5884977] 3.14699818512e-05\n",
        "9"
       ]
      },
      {
       "output_type": "stream",
       "stream": "stdout",
       "text": [
        " [-36.5884977] 3.14699818512e-05\n"
       ]
      }
     ],
     "prompt_number": 19
    },
    {
     "cell_type": "code",
     "collapsed": false,
     "input": [
      "fig = plt.figure()\n",
      "\n",
      "gs = GridSpec(1,2)\n",
      "\n",
      "ax = subplot(gs[0,0])\n",
      "ax.plot(xs, fs, 'k', linewidth=3, alpha = 0.6, label='f(x)')\n",
      "ax.plot(xs_cg, fs_cg, 'b', linewidth=3, alpha = 0.6, label='cgls')\n",
      "ax.set_xlim([xs.min(), xs.max()])\n",
      "ax.legend()\n",
      "\n",
      "ax = subplot(gs[0,1])\n",
      "ax.plot(xs, dfs, 'k', linewidth=3, alpha = 0.6, label='df(x)')\n",
      "ax.set_xlim([xs.min(), xs.max()])\n",
      "\n",
      "ax.legend()\n",
      "fig.set_size_inches(15,5)\n",
      "plt.show()"
     ],
     "language": "python",
     "metadata": {},
     "outputs": [
      {
       "metadata": {},
       "output_type": "display_data",
       "png": "[encoded data removed]",
       "text": [
        "<matplotlib.figure.Figure at 0x98d152c>"
       ]
      }
     ],
     "prompt_number": 20
    },
    {
     "cell_type": "heading",
     "level": 2,
     "metadata": {},
     "source": [
      "2 coordinates"
     ]
    },
    {
     "cell_type": "code",
     "collapsed": false,
     "input": [
      "from cgls import cgls_nonlinear\n",
      "\n",
      "xs_cg  = [np.array([prob.coords[-2, 1] + 0.1, prob.coords[-1, 1] + 0.1])]\n",
      "#xs_cg  = [np.array([prob.coords[-1, 1] + 0.2])]\n",
      "fs_cg  = []\n",
      "fs_cg.append( prob.f(xs_cg[-1], n = 2) )\n",
      "\n",
      "f2  = lambda x   : prob.f(x, n = 2)\n",
      "fd2 = lambda x, d: prob.grad_f_dot_d(x, d, n = 2)\n",
      "df2 = lambda x   : prob.grad_f(x, n = 2)\n",
      "\n",
      "cg = cgls_nonlinear.Cgls(xs_cg[-1], f2, df2, fd2)\n",
      "    \n",
      "for i in range(10):\n",
      "    x = cg.cgls(iterations = 1)\n",
      "    xs_cg.append(x)\n",
      "    fs_cg.append( f2(xs_cg[-1]) )\n",
      "    print i, x, fs_cg[-1]\n"
     ],
     "language": "python",
     "metadata": {},
     "outputs": [
      {
       "output_type": "stream",
       "stream": "stdout",
       "text": [
        "larger f\n",
        "reseting ..."
       ]
      },
      {
       "output_type": "stream",
       "stream": "stdout",
       "text": [
        "\n",
        "0"
       ]
      },
      {
       "output_type": "stream",
       "stream": "stdout",
       "text": [
        " [-28.3322326  -35.44136463] 0.174819972358\n",
        "larger f"
       ]
      },
      {
       "output_type": "stream",
       "stream": "stdout",
       "text": [
        "\n",
        "larger f"
       ]
      },
      {
       "output_type": "stream",
       "stream": "stdout",
       "text": [
        "\n",
        "1"
       ]
      },
      {
       "output_type": "stream",
       "stream": "stdout",
       "text": [
        " [-28.30417385 -35.46362864] 0.0208143465412\n",
        "2"
       ]
      },
      {
       "output_type": "stream",
       "stream": "stdout",
       "text": [
        " [-28.30725154 -35.48044992] 0.000112701525813\n",
        "too shallow"
       ]
      },
      {
       "output_type": "stream",
       "stream": "stdout",
       "text": [
        "\n",
        "reseting ..."
       ]
      },
      {
       "output_type": "stream",
       "stream": "stdout",
       "text": [
        "\n",
        "3"
       ]
      },
      {
       "output_type": "stream",
       "stream": "stdout",
       "text": [
        " [-28.30805968 -35.48072938] 2.24851400935e-06\n",
        "too shallow"
       ]
      },
      {
       "output_type": "stream",
       "stream": "stdout",
       "text": [
        "\n",
        "reseting ..."
       ]
      },
      {
       "output_type": "stream",
       "stream": "stdout",
       "text": [
        "\n",
        "4"
       ]
      },
      {
       "output_type": "stream",
       "stream": "stdout",
       "text": [
        " [-28.30805968 -35.48072938] 2.24851400935e-06\n",
        "too shallow"
       ]
      },
      {
       "output_type": "stream",
       "stream": "stdout",
       "text": [
        "\n",
        "reseting ..."
       ]
      },
      {
       "output_type": "stream",
       "stream": "stdout",
       "text": [
        "\n",
        "5"
       ]
      },
      {
       "output_type": "stream",
       "stream": "stdout",
       "text": [
        " [-28.30805968 -35.48072938] 2.24851400935e-06\n",
        "too shallow"
       ]
      },
      {
       "output_type": "stream",
       "stream": "stdout",
       "text": [
        "\n",
        "reseting ..."
       ]
      },
      {
       "output_type": "stream",
       "stream": "stdout",
       "text": [
        "\n",
        "6"
       ]
      },
      {
       "output_type": "stream",
       "stream": "stdout",
       "text": [
        " [-28.30805968 -35.48072938] 2.24851400935e-06\n",
        "too shallow"
       ]
      },
      {
       "output_type": "stream",
       "stream": "stdout",
       "text": [
        "\n",
        "reseting ..."
       ]
      },
      {
       "output_type": "stream",
       "stream": "stdout",
       "text": [
        "\n",
        "7"
       ]
      },
      {
       "output_type": "stream",
       "stream": "stdout",
       "text": [
        " [-28.30805968 -35.48072938] 2.24851400935e-06\n",
        "too shallow"
       ]
      },
      {
       "output_type": "stream",
       "stream": "stdout",
       "text": [
        "\n",
        "reseting ..."
       ]
      },
      {
       "output_type": "stream",
       "stream": "stdout",
       "text": [
        "\n",
        "8"
       ]
      },
      {
       "output_type": "stream",
       "stream": "stdout",
       "text": [
        " [-28.30805968 -35.48072938] 2.24851400935e-06\n",
        "too shallow"
       ]
      },
      {
       "output_type": "stream",
       "stream": "stdout",
       "text": [
        "\n",
        "reseting ..."
       ]
      },
      {
       "output_type": "stream",
       "stream": "stdout",
       "text": [
        "\n",
        "9"
       ]
      },
      {
       "output_type": "stream",
       "stream": "stdout",
       "text": [
        " [-28.30805968 -35.48072938] 2.24851400935e-06\n"
       ]
      }
     ],
     "prompt_number": 4
    },
    {
     "cell_type": "code",
     "collapsed": false,
     "input": [
      "shape = (20, 20)\n",
      "X, Y = np.meshgrid(np.linspace(coords_0[-2,1] - 2, coords_0[-2,1] + 2, shape[1]), \\\n",
      "                   np.linspace(coords_0[-1,1] - 2, coords_0[-1,1] + 2, shape[0]))\n",
      "\n",
      "F = []\n",
      "for x, y in zip(X.flatten(), Y.flatten()):\n",
      "    coords_temp = prob.coords_expand(np.array([x,y]), n= 2)\n",
      "    F.append(fmod(prob, coords_temp))\n",
      "\n",
      "F = np.array(F).reshape(X.shape)"
     ],
     "language": "python",
     "metadata": {},
     "outputs": [],
     "prompt_number": 22
    },
    {
     "cell_type": "code",
     "collapsed": false,
     "input": [
      "myShow(X, Y, F, xs = xs_cg, xlabel = 'cgls', xdot=prob.coords[-2,1], ydot=prob.coords[-1,1], title = 'f(x)')"
     ],
     "language": "python",
     "metadata": {},
     "outputs": [
      {
       "metadata": {},
       "output_type": "display_data",
       "png": "[encoded data removed]",
       "text": [
        "<matplotlib.figure.Figure at 0xa78192c>"
       ]
      }
     ],
     "prompt_number": 23
    },
    {
     "cell_type": "heading",
     "level": 2,
     "metadata": {},
     "source": [
      "N-1 coordinates"
     ]
    },
    {
     "cell_type": "code",
     "collapsed": false,
     "input": [
      "from cgls import cgls_nonlinear\n",
      "import copy\n",
      "\n",
      "n = len(prob.coords) - 1\n",
      "coords_init = prob.coords.copy()\n",
      "coords_init[1:, 1] = prob.coords[1:, 1] + np.random.random(n) * 10.0 - 5.0\n",
      "\n",
      "prob2 = pt.Ptychography_1dsample(diffs, coords_init, prob.mask, prob.probe \\\n",
      "                                 , prob.sample_1d, prob.sample_support_1d)\n",
      "\n",
      "xs_cg = []\n",
      "fs_cg = []\n",
      "\n",
      "xs_cg.append(prob2.coords_contract(prob2.coords, n = n))\n",
      "fs_cg.append( prob.f(xs_cg[-1], n = n) / prob2.diffNorm )\n",
      "\n",
      "prob2.coords_update(iters=20)\n",
      "\n",
      "xs_cg.append(prob2.coords_contract(prob2.coords, n = n))\n",
      "fs_cg.append( prob2.error_mod[-1] )"
     ],
     "language": "python",
     "metadata": {},
     "outputs": [
      {
       "output_type": "stream",
       "stream": "stdout",
       "text": [
        "i \t\t eMod \t\t eSup\n",
        "Input error :"
       ]
      },
      {
       "output_type": "stream",
       "stream": "stdout",
       "text": [
        " 629.572441112\n",
        "larger f"
       ]
      },
      {
       "output_type": "stream",
       "stream": "stdout",
       "text": [
        "\n",
        "larger f"
       ]
      },
      {
       "output_type": "stream",
       "stream": "stdout",
       "text": [
        "\n",
        "larger f"
       ]
      },
      {
       "output_type": "stream",
       "stream": "stdout",
       "text": [
        "\n",
        "larger f"
       ]
      },
      {
       "output_type": "stream",
       "stream": "stdout",
       "text": [
        "\n",
        "larger f"
       ]
      },
      {
       "output_type": "stream",
       "stream": "stdout",
       "text": [
        "\n",
        "larger f"
       ]
      },
      {
       "output_type": "stream",
       "stream": "stdout",
       "text": [
        "\n",
        "larger f"
       ]
      },
      {
       "output_type": "stream",
       "stream": "stdout",
       "text": [
        "\n",
        "larger f"
       ]
      },
      {
       "output_type": "stream",
       "stream": "stdout",
       "text": [
        "\n",
        "output error :"
       ]
      },
      {
       "output_type": "stream",
       "stream": "stdout",
       "text": [
        " 544.534352214\n",
        "reseting ..."
       ]
      },
      {
       "output_type": "stream",
       "stream": "stdout",
       "text": [
        "\n",
        "\r",
        "cgls coords: [---------------] 0% 0 0.0213700289813 999       "
       ]
      },
      {
       "output_type": "stream",
       "stream": "stdout",
       "text": [
        "Input error : 544.534352214\n",
        "larger f"
       ]
      },
      {
       "output_type": "stream",
       "stream": "stdout",
       "text": [
        "\n",
        "larger f"
       ]
      },
      {
       "output_type": "stream",
       "stream": "stdout",
       "text": [
        "\n",
        "larger f"
       ]
      },
      {
       "output_type": "stream",
       "stream": "stdout",
       "text": [
        "\n",
        "larger f"
       ]
      },
      {
       "output_type": "stream",
       "stream": "stdout",
       "text": [
        "\n",
        "larger f"
       ]
      },
      {
       "output_type": "stream",
       "stream": "stdout",
       "text": [
        "\n",
        "larger f"
       ]
      },
      {
       "output_type": "stream",
       "stream": "stdout",
       "text": [
        "\n",
        "larger f"
       ]
      },
      {
       "output_type": "stream",
       "stream": "stdout",
       "text": [
        "\n",
        "larger f"
       ]
      },
      {
       "output_type": "stream",
       "stream": "stdout",
       "text": [
        "\n",
        "output error : 460.70142802\n",
        "\r",
        "cgls coords: [#--------------] 5% 1 0.0180800399984 999       "
       ]
      },
      {
       "output_type": "stream",
       "stream": "stdout",
       "text": [
        "Input error : 460.70142802\n",
        "larger f"
       ]
      },
      {
       "output_type": "stream",
       "stream": "stdout",
       "text": [
        "\n",
        "larger f"
       ]
      },
      {
       "output_type": "stream",
       "stream": "stdout",
       "text": [
        "\n",
        "larger f"
       ]
      },
      {
       "output_type": "stream",
       "stream": "stdout",
       "text": [
        "\n",
        "larger f"
       ]
      },
      {
       "output_type": "stream",
       "stream": "stdout",
       "text": [
        "\n",
        "larger f"
       ]
      },
      {
       "output_type": "stream",
       "stream": "stdout",
       "text": [
        "\n",
        "larger f"
       ]
      },
      {
       "output_type": "stream",
       "stream": "stdout",
       "text": [
        "\n",
        "larger f"
       ]
      },
      {
       "output_type": "stream",
       "stream": "stdout",
       "text": [
        "\n",
        "larger f"
       ]
      },
      {
       "output_type": "stream",
       "stream": "stdout",
       "text": [
        "\n",
        "larger f"
       ]
      },
      {
       "output_type": "stream",
       "stream": "stdout",
       "text": [
        "\n",
        "output error : 449.304171881\n",
        "\r",
        "cgls coords: [##-------------] 10% 2 0.0176327593208 999       "
       ]
      },
      {
       "output_type": "stream",
       "stream": "stdout",
       "text": [
        "Input error : 449.304171881\n",
        "larger f"
       ]
      },
      {
       "output_type": "stream",
       "stream": "stdout",
       "text": [
        "\n",
        "larger f"
       ]
      },
      {
       "output_type": "stream",
       "stream": "stdout",
       "text": [
        "\n",
        "larger f"
       ]
      },
      {
       "output_type": "stream",
       "stream": "stdout",
       "text": [
        "\n",
        "larger f"
       ]
      },
      {
       "output_type": "stream",
       "stream": "stdout",
       "text": [
        "\n",
        "larger f"
       ]
      },
      {
       "output_type": "stream",
       "stream": "stdout",
       "text": [
        "\n",
        "larger f"
       ]
      },
      {
       "output_type": "stream",
       "stream": "stdout",
       "text": [
        "\n",
        "larger f"
       ]
      },
      {
       "output_type": "stream",
       "stream": "stdout",
       "text": [
        "\n",
        "larger f"
       ]
      },
      {
       "output_type": "stream",
       "stream": "stdout",
       "text": [
        "\n",
        "output error :"
       ]
      },
      {
       "output_type": "stream",
       "stream": "stdout",
       "text": [
        " 444.55917675\n",
        "\r",
        "cgls coords: [##-------------] 15% 3 0.0174465439185 999       "
       ]
      },
      {
       "output_type": "stream",
       "stream": "stdout",
       "text": [
        "Input error : 444.55917675\n",
        "larger f"
       ]
      },
      {
       "output_type": "stream",
       "stream": "stdout",
       "text": [
        "\n",
        "larger f"
       ]
      },
      {
       "output_type": "stream",
       "stream": "stdout",
       "text": [
        "\n",
        "larger f"
       ]
      },
      {
       "output_type": "stream",
       "stream": "stdout",
       "text": [
        "\n",
        "larger f"
       ]
      },
      {
       "output_type": "stream",
       "stream": "stdout",
       "text": [
        "\n",
        "larger f"
       ]
      },
      {
       "output_type": "stream",
       "stream": "stdout",
       "text": [
        "\n",
        "larger f"
       ]
      },
      {
       "output_type": "stream",
       "stream": "stdout",
       "text": [
        "\n",
        "larger f"
       ]
      },
      {
       "output_type": "stream",
       "stream": "stdout",
       "text": [
        "\n",
        "larger f"
       ]
      },
      {
       "output_type": "stream",
       "stream": "stdout",
       "text": [
        "\n",
        "larger f"
       ]
      },
      {
       "output_type": "stream",
       "stream": "stdout",
       "text": [
        "\n",
        "output error : 442.362438126\n",
        "reseting ..."
       ]
      },
      {
       "output_type": "stream",
       "stream": "stdout",
       "text": [
        "\n",
        "\r",
        "cgls coords: [###------------] 21% 4 0.0173603338055 999       "
       ]
      },
      {
       "output_type": "stream",
       "stream": "stdout",
       "text": [
        "Input error : 442.362438126\n",
        "larger f"
       ]
      },
      {
       "output_type": "stream",
       "stream": "stdout",
       "text": [
        "\n",
        "larger f"
       ]
      },
      {
       "output_type": "stream",
       "stream": "stdout",
       "text": [
        "\n",
        "larger f"
       ]
      },
      {
       "output_type": "stream",
       "stream": "stdout",
       "text": [
        "\n",
        "larger f"
       ]
      },
      {
       "output_type": "stream",
       "stream": "stdout",
       "text": [
        "\n",
        "larger f"
       ]
      },
      {
       "output_type": "stream",
       "stream": "stdout",
       "text": [
        "\n",
        "larger f"
       ]
      },
      {
       "output_type": "stream",
       "stream": "stdout",
       "text": [
        "\n",
        "larger f"
       ]
      },
      {
       "output_type": "stream",
       "stream": "stdout",
       "text": [
        "\n",
        "larger f"
       ]
      },
      {
       "output_type": "stream",
       "stream": "stdout",
       "text": [
        "\n",
        "larger f"
       ]
      },
      {
       "output_type": "stream",
       "stream": "stdout",
       "text": [
        "\n",
        "output error : 441.114385327\n",
        "\r",
        "cgls coords: [####-----------] 26% 5 0.0173113544815 999       "
       ]
      },
      {
       "output_type": "stream",
       "stream": "stdout",
       "text": [
        "Input error : 441.114385327\n",
        "larger f"
       ]
      },
      {
       "output_type": "stream",
       "stream": "stdout",
       "text": [
        "\n",
        "larger f"
       ]
      },
      {
       "output_type": "stream",
       "stream": "stdout",
       "text": [
        "\n",
        "larger f"
       ]
      },
      {
       "output_type": "stream",
       "stream": "stdout",
       "text": [
        "\n",
        "larger f"
       ]
      },
      {
       "output_type": "stream",
       "stream": "stdout",
       "text": [
        "\n",
        "larger f"
       ]
      },
      {
       "output_type": "stream",
       "stream": "stdout",
       "text": [
        "\n",
        "larger f"
       ]
      },
      {
       "output_type": "stream",
       "stream": "stdout",
       "text": [
        "\n",
        "larger f"
       ]
      },
      {
       "output_type": "stream",
       "stream": "stdout",
       "text": [
        "\n",
        "larger f"
       ]
      },
      {
       "output_type": "stream",
       "stream": "stdout",
       "text": [
        "\n",
        "larger f"
       ]
      },
      {
       "output_type": "stream",
       "stream": "stdout",
       "text": [
        "\n",
        "larger f"
       ]
      },
      {
       "output_type": "stream",
       "stream": "stdout",
       "text": [
        "\n",
        "output error : 441.114385327\n",
        "\r",
        "cgls coords: [#####----------] 31% 6 0.0173113544815 999       "
       ]
      },
      {
       "output_type": "stream",
       "stream": "stdout",
       "text": [
        "Input error : 441.114385327\n",
        "larger f"
       ]
      },
      {
       "output_type": "stream",
       "stream": "stdout",
       "text": [
        "\n",
        "larger f"
       ]
      },
      {
       "output_type": "stream",
       "stream": "stdout",
       "text": [
        "\n",
        "larger f"
       ]
      },
      {
       "output_type": "stream",
       "stream": "stdout",
       "text": [
        "\n",
        "larger f"
       ]
      },
      {
       "output_type": "stream",
       "stream": "stdout",
       "text": [
        "\n",
        "larger f"
       ]
      },
      {
       "output_type": "stream",
       "stream": "stdout",
       "text": [
        "\n",
        "larger f"
       ]
      },
      {
       "output_type": "stream",
       "stream": "stdout",
       "text": [
        "\n",
        "larger f"
       ]
      },
      {
       "output_type": "stream",
       "stream": "stdout",
       "text": [
        "\n",
        "larger f"
       ]
      },
      {
       "output_type": "stream",
       "stream": "stdout",
       "text": [
        "\n",
        "larger f"
       ]
      },
      {
       "output_type": "stream",
       "stream": "stdout",
       "text": [
        "\n",
        "larger f"
       ]
      },
      {
       "output_type": "stream",
       "stream": "stdout",
       "text": [
        "\n",
        "output error : 441.114385327\n",
        "\r",
        "cgls coords: [######---------] 36% 7 0.0173113544815 999       "
       ]
      },
      {
       "output_type": "stream",
       "stream": "stdout",
       "text": [
        "Input error : 441.114385327\n",
        "larger f"
       ]
      },
      {
       "output_type": "stream",
       "stream": "stdout",
       "text": [
        "\n",
        "larger f"
       ]
      },
      {
       "output_type": "stream",
       "stream": "stdout",
       "text": [
        "\n",
        "larger f"
       ]
      },
      {
       "output_type": "stream",
       "stream": "stdout",
       "text": [
        "\n",
        "larger f"
       ]
      },
      {
       "output_type": "stream",
       "stream": "stdout",
       "text": [
        "\n",
        "larger f"
       ]
      },
      {
       "output_type": "stream",
       "stream": "stdout",
       "text": [
        "\n",
        "larger f"
       ]
      },
      {
       "output_type": "stream",
       "stream": "stdout",
       "text": [
        "\n",
        "larger f"
       ]
      },
      {
       "output_type": "stream",
       "stream": "stdout",
       "text": [
        "\n",
        "larger f"
       ]
      },
      {
       "output_type": "stream",
       "stream": "stdout",
       "text": [
        "\n",
        "larger f"
       ]
      },
      {
       "output_type": "stream",
       "stream": "stdout",
       "text": [
        "\n",
        "larger f"
       ]
      },
      {
       "output_type": "stream",
       "stream": "stdout",
       "text": [
        "\n",
        "output error : 441.114385327\n",
        "reseting ..."
       ]
      },
      {
       "output_type": "stream",
       "stream": "stdout",
       "text": [
        "\n",
        "\r",
        "cgls coords: [######---------] 42% 8 0.0173113544815 999       "
       ]
      },
      {
       "output_type": "stream",
       "stream": "stdout",
       "text": [
        "Input error : 441.114385327\n",
        "larger f"
       ]
      },
      {
       "output_type": "stream",
       "stream": "stdout",
       "text": [
        "\n",
        "larger f"
       ]
      },
      {
       "output_type": "stream",
       "stream": "stdout",
       "text": [
        "\n",
        "larger f"
       ]
      },
      {
       "output_type": "stream",
       "stream": "stdout",
       "text": [
        "\n",
        "larger f"
       ]
      },
      {
       "output_type": "stream",
       "stream": "stdout",
       "text": [
        "\n",
        "larger f"
       ]
      },
      {
       "output_type": "stream",
       "stream": "stdout",
       "text": [
        "\n",
        "larger f"
       ]
      },
      {
       "output_type": "stream",
       "stream": "stdout",
       "text": [
        "\n",
        "larger f"
       ]
      },
      {
       "output_type": "stream",
       "stream": "stdout",
       "text": [
        "\n",
        "larger f"
       ]
      },
      {
       "output_type": "stream",
       "stream": "stdout",
       "text": [
        "\n",
        "larger f"
       ]
      },
      {
       "output_type": "stream",
       "stream": "stdout",
       "text": [
        "\n",
        "larger f"
       ]
      },
      {
       "output_type": "stream",
       "stream": "stdout",
       "text": [
        "\n",
        "output error : 441.114385327\n",
        "\r",
        "cgls coords: [#######--------] 47% 9 0.0173113544815 999       "
       ]
      },
      {
       "output_type": "stream",
       "stream": "stdout",
       "text": [
        "Input error : 441.114385327\n",
        "larger f"
       ]
      },
      {
       "output_type": "stream",
       "stream": "stdout",
       "text": [
        "\n",
        "larger f"
       ]
      },
      {
       "output_type": "stream",
       "stream": "stdout",
       "text": [
        "\n",
        "larger f"
       ]
      },
      {
       "output_type": "stream",
       "stream": "stdout",
       "text": [
        "\n",
        "larger f"
       ]
      },
      {
       "output_type": "stream",
       "stream": "stdout",
       "text": [
        "\n",
        "larger f"
       ]
      },
      {
       "output_type": "stream",
       "stream": "stdout",
       "text": [
        "\n",
        "larger f"
       ]
      },
      {
       "output_type": "stream",
       "stream": "stdout",
       "text": [
        "\n",
        "larger f"
       ]
      },
      {
       "output_type": "stream",
       "stream": "stdout",
       "text": [
        "\n",
        "larger f"
       ]
      },
      {
       "output_type": "stream",
       "stream": "stdout",
       "text": [
        "\n",
        "larger f"
       ]
      },
      {
       "output_type": "stream",
       "stream": "stdout",
       "text": [
        "\n",
        "larger f"
       ]
      },
      {
       "output_type": "stream",
       "stream": "stdout",
       "text": [
        "\n",
        "output error : 441.114385327\n",
        "\r",
        "cgls coords: [########-------] 52% 10 0.0173113544815 999       "
       ]
      },
      {
       "output_type": "stream",
       "stream": "stdout",
       "text": [
        "Input error : 441.114385327\n",
        "larger f"
       ]
      },
      {
       "output_type": "stream",
       "stream": "stdout",
       "text": [
        "\n",
        "larger f"
       ]
      },
      {
       "output_type": "stream",
       "stream": "stdout",
       "text": [
        "\n",
        "larger f"
       ]
      },
      {
       "output_type": "stream",
       "stream": "stdout",
       "text": [
        "\n",
        "larger f"
       ]
      },
      {
       "output_type": "stream",
       "stream": "stdout",
       "text": [
        "\n",
        "larger f"
       ]
      },
      {
       "output_type": "stream",
       "stream": "stdout",
       "text": [
        "\n",
        "larger f"
       ]
      },
      {
       "output_type": "stream",
       "stream": "stdout",
       "text": [
        "\n",
        "larger f"
       ]
      },
      {
       "output_type": "stream",
       "stream": "stdout",
       "text": [
        "\n",
        "larger f"
       ]
      },
      {
       "output_type": "stream",
       "stream": "stdout",
       "text": [
        "\n",
        "larger f"
       ]
      },
      {
       "output_type": "stream",
       "stream": "stdout",
       "text": [
        "\n",
        "larger f"
       ]
      },
      {
       "output_type": "stream",
       "stream": "stdout",
       "text": [
        "\n",
        "output error : 441.114385327\n",
        "\r",
        "cgls coords: [#########------] 57% 11 0.0173113544815 999       "
       ]
      },
      {
       "output_type": "stream",
       "stream": "stdout",
       "text": [
        "Input error : 441.114385327\n",
        "larger f"
       ]
      },
      {
       "output_type": "stream",
       "stream": "stdout",
       "text": [
        "\n",
        "larger f"
       ]
      },
      {
       "output_type": "stream",
       "stream": "stdout",
       "text": [
        "\n",
        "larger f"
       ]
      },
      {
       "output_type": "stream",
       "stream": "stdout",
       "text": [
        "\n",
        "larger f"
       ]
      },
      {
       "output_type": "stream",
       "stream": "stdout",
       "text": [
        "\n",
        "larger f"
       ]
      },
      {
       "output_type": "stream",
       "stream": "stdout",
       "text": [
        "\n",
        "larger f"
       ]
      },
      {
       "output_type": "stream",
       "stream": "stdout",
       "text": [
        "\n",
        "larger f"
       ]
      },
      {
       "output_type": "stream",
       "stream": "stdout",
       "text": [
        "\n",
        "larger f"
       ]
      },
      {
       "output_type": "stream",
       "stream": "stdout",
       "text": [
        "\n",
        "larger f"
       ]
      },
      {
       "output_type": "stream",
       "stream": "stdout",
       "text": [
        "\n",
        "larger f"
       ]
      },
      {
       "output_type": "stream",
       "stream": "stdout",
       "text": [
        "\n",
        "output error : 441.114385327\n",
        "reseting ..."
       ]
      },
      {
       "output_type": "stream",
       "stream": "stdout",
       "text": [
        "\n",
        "\r",
        "cgls coords: [#########------] 63% 12 0.0173113544815 999       "
       ]
      },
      {
       "output_type": "stream",
       "stream": "stdout",
       "text": [
        "Input error : 441.114385327\n",
        "larger f"
       ]
      },
      {
       "output_type": "stream",
       "stream": "stdout",
       "text": [
        "\n",
        "larger f"
       ]
      },
      {
       "output_type": "stream",
       "stream": "stdout",
       "text": [
        "\n",
        "larger f"
       ]
      },
      {
       "output_type": "stream",
       "stream": "stdout",
       "text": [
        "\n",
        "larger f"
       ]
      },
      {
       "output_type": "stream",
       "stream": "stdout",
       "text": [
        "\n",
        "larger f"
       ]
      },
      {
       "output_type": "stream",
       "stream": "stdout",
       "text": [
        "\n",
        "larger f"
       ]
      },
      {
       "output_type": "stream",
       "stream": "stdout",
       "text": [
        "\n",
        "larger f"
       ]
      },
      {
       "output_type": "stream",
       "stream": "stdout",
       "text": [
        "\n",
        "larger f"
       ]
      },
      {
       "output_type": "stream",
       "stream": "stdout",
       "text": [
        "\n",
        "larger f"
       ]
      },
      {
       "output_type": "stream",
       "stream": "stdout",
       "text": [
        "\n",
        "larger f"
       ]
      },
      {
       "output_type": "stream",
       "stream": "stdout",
       "text": [
        "\n",
        "output error : 441.114385327\n",
        "\r",
        "cgls coords: [##########-----] 68% 13 0.0173113544815 999       "
       ]
      },
      {
       "output_type": "stream",
       "stream": "stdout",
       "text": [
        "Input error : 441.114385327\n",
        "larger f"
       ]
      },
      {
       "output_type": "stream",
       "stream": "stdout",
       "text": [
        "\n",
        "larger f"
       ]
      },
      {
       "output_type": "stream",
       "stream": "stdout",
       "text": [
        "\n",
        "larger f"
       ]
      },
      {
       "output_type": "stream",
       "stream": "stdout",
       "text": [
        "\n",
        "larger f"
       ]
      },
      {
       "output_type": "stream",
       "stream": "stdout",
       "text": [
        "\n",
        "larger f"
       ]
      },
      {
       "output_type": "stream",
       "stream": "stdout",
       "text": [
        "\n",
        "larger f"
       ]
      },
      {
       "output_type": "stream",
       "stream": "stdout",
       "text": [
        "\n",
        "larger f"
       ]
      },
      {
       "output_type": "stream",
       "stream": "stdout",
       "text": [
        "\n",
        "larger f"
       ]
      },
      {
       "output_type": "stream",
       "stream": "stdout",
       "text": [
        "\n",
        "larger f"
       ]
      },
      {
       "output_type": "stream",
       "stream": "stdout",
       "text": [
        "\n",
        "larger f"
       ]
      },
      {
       "output_type": "stream",
       "stream": "stdout",
       "text": [
        "\n",
        "output error : 441.114385327\n",
        "\r",
        "cgls coords: [###########----] 73% 14 0.0173113544815 999       "
       ]
      },
      {
       "output_type": "stream",
       "stream": "stdout",
       "text": [
        "Input error : 441.114385327\n",
        "larger f"
       ]
      },
      {
       "output_type": "stream",
       "stream": "stdout",
       "text": [
        "\n",
        "larger f"
       ]
      },
      {
       "output_type": "stream",
       "stream": "stdout",
       "text": [
        "\n",
        "larger f"
       ]
      },
      {
       "output_type": "stream",
       "stream": "stdout",
       "text": [
        "\n",
        "larger f"
       ]
      },
      {
       "output_type": "stream",
       "stream": "stdout",
       "text": [
        "\n",
        "larger f"
       ]
      },
      {
       "output_type": "stream",
       "stream": "stdout",
       "text": [
        "\n",
        "larger f"
       ]
      },
      {
       "output_type": "stream",
       "stream": "stdout",
       "text": [
        "\n",
        "larger f"
       ]
      },
      {
       "output_type": "stream",
       "stream": "stdout",
       "text": [
        "\n",
        "larger f"
       ]
      },
      {
       "output_type": "stream",
       "stream": "stdout",
       "text": [
        "\n",
        "larger f"
       ]
      },
      {
       "output_type": "stream",
       "stream": "stdout",
       "text": [
        "\n",
        "larger f"
       ]
      },
      {
       "output_type": "stream",
       "stream": "stdout",
       "text": [
        "\n",
        "output error : 441.114385327\n",
        "\r",
        "cgls coords: [############---] 78% 15 0.0173113544815 999       "
       ]
      },
      {
       "output_type": "stream",
       "stream": "stdout",
       "text": [
        "Input error : 441.114385327\n",
        "larger f"
       ]
      },
      {
       "output_type": "stream",
       "stream": "stdout",
       "text": [
        "\n",
        "larger f"
       ]
      },
      {
       "output_type": "stream",
       "stream": "stdout",
       "text": [
        "\n",
        "larger f"
       ]
      },
      {
       "output_type": "stream",
       "stream": "stdout",
       "text": [
        "\n",
        "larger f"
       ]
      },
      {
       "output_type": "stream",
       "stream": "stdout",
       "text": [
        "\n",
        "larger f"
       ]
      },
      {
       "output_type": "stream",
       "stream": "stdout",
       "text": [
        "\n",
        "larger f"
       ]
      },
      {
       "output_type": "stream",
       "stream": "stdout",
       "text": [
        "\n",
        "larger f"
       ]
      },
      {
       "output_type": "stream",
       "stream": "stdout",
       "text": [
        "\n",
        "larger f"
       ]
      },
      {
       "output_type": "stream",
       "stream": "stdout",
       "text": [
        "\n",
        "larger f"
       ]
      },
      {
       "output_type": "stream",
       "stream": "stdout",
       "text": [
        "\n",
        "larger f"
       ]
      },
      {
       "output_type": "stream",
       "stream": "stdout",
       "text": [
        "\n",
        "output error : 441.114385327\n",
        "reseting ..."
       ]
      },
      {
       "output_type": "stream",
       "stream": "stdout",
       "text": [
        "\n",
        "\r",
        "cgls coords: [#############--] 84% 16 0.0173113544815 999       "
       ]
      },
      {
       "output_type": "stream",
       "stream": "stdout",
       "text": [
        "Input error : 441.114385327\n",
        "larger f"
       ]
      },
      {
       "output_type": "stream",
       "stream": "stdout",
       "text": [
        "\n",
        "larger f"
       ]
      },
      {
       "output_type": "stream",
       "stream": "stdout",
       "text": [
        "\n",
        "larger f"
       ]
      },
      {
       "output_type": "stream",
       "stream": "stdout",
       "text": [
        "\n",
        "larger f"
       ]
      },
      {
       "output_type": "stream",
       "stream": "stdout",
       "text": [
        "\n",
        "larger f"
       ]
      },
      {
       "output_type": "stream",
       "stream": "stdout",
       "text": [
        "\n",
        "larger f"
       ]
      },
      {
       "output_type": "stream",
       "stream": "stdout",
       "text": [
        "\n",
        "larger f"
       ]
      },
      {
       "output_type": "stream",
       "stream": "stdout",
       "text": [
        "\n",
        "larger f"
       ]
      },
      {
       "output_type": "stream",
       "stream": "stdout",
       "text": [
        "\n",
        "larger f"
       ]
      },
      {
       "output_type": "stream",
       "stream": "stdout",
       "text": [
        "\n",
        "larger f"
       ]
      },
      {
       "output_type": "stream",
       "stream": "stdout",
       "text": [
        "\n",
        "output error : 441.114385327\n",
        "\r",
        "cgls coords: [#############--] 89% 17 0.0173113544815 999       "
       ]
      },
      {
       "output_type": "stream",
       "stream": "stdout",
       "text": [
        "Input error : 441.114385327\n",
        "larger f"
       ]
      },
      {
       "output_type": "stream",
       "stream": "stdout",
       "text": [
        "\n",
        "larger f"
       ]
      },
      {
       "output_type": "stream",
       "stream": "stdout",
       "text": [
        "\n",
        "larger f"
       ]
      },
      {
       "output_type": "stream",
       "stream": "stdout",
       "text": [
        "\n",
        "larger f"
       ]
      },
      {
       "output_type": "stream",
       "stream": "stdout",
       "text": [
        "\n",
        "larger f"
       ]
      },
      {
       "output_type": "stream",
       "stream": "stdout",
       "text": [
        "\n",
        "larger f"
       ]
      },
      {
       "output_type": "stream",
       "stream": "stdout",
       "text": [
        "\n",
        "larger f"
       ]
      },
      {
       "output_type": "stream",
       "stream": "stdout",
       "text": [
        "\n",
        "larger f"
       ]
      },
      {
       "output_type": "stream",
       "stream": "stdout",
       "text": [
        "\n",
        "larger f"
       ]
      },
      {
       "output_type": "stream",
       "stream": "stdout",
       "text": [
        "\n",
        "larger f"
       ]
      },
      {
       "output_type": "stream",
       "stream": "stdout",
       "text": [
        "\n",
        "output error : 441.114385327\n",
        "\r",
        "cgls coords: [##############-] 94% 18 0.0173113544815 999       "
       ]
      },
      {
       "output_type": "stream",
       "stream": "stdout",
       "text": [
        "Input error : 441.114385327\n",
        "larger f"
       ]
      },
      {
       "output_type": "stream",
       "stream": "stdout",
       "text": [
        "\n",
        "larger f"
       ]
      },
      {
       "output_type": "stream",
       "stream": "stdout",
       "text": [
        "\n",
        "larger f"
       ]
      },
      {
       "output_type": "stream",
       "stream": "stdout",
       "text": [
        "\n",
        "larger f"
       ]
      },
      {
       "output_type": "stream",
       "stream": "stdout",
       "text": [
        "\n",
        "larger f"
       ]
      },
      {
       "output_type": "stream",
       "stream": "stdout",
       "text": [
        "\n",
        "larger f"
       ]
      },
      {
       "output_type": "stream",
       "stream": "stdout",
       "text": [
        "\n",
        "larger f"
       ]
      },
      {
       "output_type": "stream",
       "stream": "stdout",
       "text": [
        "\n",
        "larger f"
       ]
      },
      {
       "output_type": "stream",
       "stream": "stdout",
       "text": [
        "\n",
        "larger f"
       ]
      },
      {
       "output_type": "stream",
       "stream": "stdout",
       "text": [
        "\n",
        "larger f"
       ]
      },
      {
       "output_type": "stream",
       "stream": "stdout",
       "text": [
        "\n",
        "output error : 441.114385327\n",
        "\r",
        "cgls coords: [###############] 100% 19 0.0173113544815 999 Done...\r\n",
        "      "
       ]
      }
     ],
     "prompt_number": 4
    },
    {
     "cell_type": "code",
     "collapsed": false,
     "input": [
      "fs_cg"
     ],
     "language": "python",
     "metadata": {},
     "outputs": [
      {
       "metadata": {},
       "output_type": "pyout",
       "prompt_number": 6,
       "text": [
        "[0.024100267370898699, 0.080132268674755314]"
       ]
      }
     ],
     "prompt_number": 6
    },
    {
     "cell_type": "code",
     "collapsed": false,
     "input": [
      "prob2.cg.errors"
     ],
     "language": "python",
     "metadata": {},
     "outputs": [
      {
       "metadata": {},
       "output_type": "pyout",
       "prompt_number": 7,
       "text": [
        "[1396.2570908505211,\n",
        " 1448.3995935863147,\n",
        " 2223.4600801785236,\n",
        " 1928.6136390523961,\n",
        " 2217.007491062906,\n",
        " 1925.5007330645235,\n",
        " 2217.4111198484129,\n",
        " 2261.2493464589807,\n",
        " 2486.9792336087626,\n",
        " 2138.1227090564075,\n",
        " 2105.7154754645085,\n",
        " 2203.556971425211,\n",
        " 1947.7564383865374,\n",
        " 2532.2227993012443,\n",
        " 2638.7923616390485,\n",
        " 2542.1495613703805,\n",
        " 2429.7091072003827,\n",
        " 2256.4587512496814,\n",
        " 2010.9670892599931,\n",
        " 2283.7772183331813]"
       ]
      }
     ],
     "prompt_number": 7
    },
    {
     "cell_type": "code",
     "collapsed": false,
     "input": [
      "fig = plt.figure()\n",
      "\n",
      "gs = GridSpec(1,1)\n",
      "\n",
      "ax = subplot(gs[0,0])\n",
      "ax.plot(prob.coords[1:, 1], 'k', linewidth=3, alpha = 0.6, label='coords')\n",
      "ax.plot(xs_cg[0], 'bo', linewidth=3, alpha = 0.6, label='initial')\n",
      "ax.plot(xs_cg[-1], 'go', linewidth=3, alpha = 0.6, label='retrieved')\n",
      "ax.set_xlim([-1, n ])\n",
      "ax.legend()\n",
      "\n",
      "ax.legend()\n",
      "fig.set_size_inches(15,5)\n",
      "plt.show()"
     ],
     "language": "python",
     "metadata": {},
     "outputs": [
      {
       "metadata": {},
       "output_type": "display_data",
       "png": "[encoded data removed]",
       "text": [
        "<matplotlib.figure.Figure at 0x8e75c0c>"
       ]
      }
     ],
     "prompt_number": 5
    },
    {
     "cell_type": "code",
     "collapsed": false,
     "input": [],
     "language": "python",
     "metadata": {},
     "outputs": []
    },
    {
     "cell_type": "code",
     "collapsed": false,
     "input": [],
     "language": "python",
     "metadata": {},
     "outputs": []
    },
    {
     "cell_type": "code",
     "collapsed": false,
     "input": [
      "np.around()"
     ],
     "language": "python",
     "metadata": {},
     "outputs": []
    }
   ],
   "metadata": {}
  }
 ]
}